{
 "cells": [
  {
   "cell_type": "code",
   "execution_count": 24,
   "id": "a77e8481-4c76-4331-b67a-65f997f0a1d8",
   "metadata": {},
   "outputs": [],
   "source": [
    "#Create a contact book\n",
    "\n",
    "contacts ={}\n"
   ]
  },
  {
   "cell_type": "code",
   "execution_count": 25,
   "id": "2d76aa53-9226-4523-aaf8-748dc235b66d",
   "metadata": {},
   "outputs": [],
   "source": [
    "import contact_book"
   ]
  },
  {
   "cell_type": "code",
   "execution_count": 26,
   "id": "9b87e803-3700-4ab5-9b84-00c9d1667ecc",
   "metadata": {},
   "outputs": [
    {
     "name": "stdout",
     "output_type": "stream",
     "text": [
      "Raushani is added.\n",
      "Raj is added.\n",
      "Shivani is added.\n"
     ]
    }
   ],
   "source": [
    "#Add some contacts\n",
    "\n",
    "create_contact(contacts, \"Raushani\", 7631618465, \"rasho4113@gmail.com\")\n",
    "create_contact(contacts, \"Raj\", 7633866627, \"raj123@gmail.com\")\n",
    "create_contact(contacts, \"Shivani\",7644085521,\"shivanimehta9601@gmail.com\")\n",
    "\n",
    "\n",
    "\n"
   ]
  },
  {
   "cell_type": "code",
   "execution_count": 27,
   "id": "8c9efef2-1fc7-4efc-88fe-3c4e5f3b38d9",
   "metadata": {},
   "outputs": [
    {
     "name": "stdout",
     "output_type": "stream",
     "text": [
      "Contacts List\n",
      "Name - Raushani, Phone - 7631618465,email - rasho4113@gmail.com\n",
      "Name - Raj, Phone - 7633866627,email - raj123@gmail.com\n",
      "Name - Shivani, Phone - 7644085521,email - shivanimehta9601@gmail.com\n"
     ]
    }
   ],
   "source": [
    "#View contacts\n",
    "\n",
    "view_contact(contacts)"
   ]
  },
  {
   "cell_type": "code",
   "execution_count": 28,
   "id": "4f0c37f5-7c5d-4e06-9aaa-9570704f83dd",
   "metadata": {},
   "outputs": [
    {
     "name": "stdout",
     "output_type": "stream",
     "text": [
      "Contact Shivani phone number updated.\n",
      "Contact Not found\n"
     ]
    }
   ],
   "source": [
    "#Update contact\n",
    "\n",
    "update_contact(contacts, \"Shivani\", phone= 9905510377)"
   ]
  },
  {
   "cell_type": "code",
   "execution_count": 29,
   "id": "737b51cc-d45a-47f1-88c8-c3140a2bca8c",
   "metadata": {},
   "outputs": [
    {
     "name": "stdout",
     "output_type": "stream",
     "text": [
      "Raushani is deleted\n"
     ]
    }
   ],
   "source": [
    "#Delete contact\n",
    "\n",
    "delete_contact(contacts,\"Raushani\")"
   ]
  },
  {
   "cell_type": "code",
   "execution_count": 30,
   "id": "5422e416-0770-438e-b065-4c9da85e9f49",
   "metadata": {},
   "outputs": [
    {
     "name": "stdout",
     "output_type": "stream",
     "text": [
      "Contacts List\n",
      "Name - Raj, Phone - 7633866627,email - raj123@gmail.com\n",
      "Name - Shivani, Phone - 9905510377,email - shivanimehta9601@gmail.com\n"
     ]
    }
   ],
   "source": [
    "#View contacts again\n",
    "\n",
    "view_contact(contacts)"
   ]
  }
 ],
 "metadata": {
  "kernelspec": {
   "display_name": "Python 3 (ipykernel)",
   "language": "python",
   "name": "python3"
  },
  "language_info": {
   "codemirror_mode": {
    "name": "ipython",
    "version": 3
   },
   "file_extension": ".py",
   "mimetype": "text/x-python",
   "name": "python",
   "nbconvert_exporter": "python",
   "pygments_lexer": "ipython3",
   "version": "3.12.4"
  }
 },
 "nbformat": 4,
 "nbformat_minor": 5
}
